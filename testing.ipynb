{
 "cells": [
  {
   "cell_type": "code",
   "execution_count": 2,
   "metadata": {},
   "outputs": [
    {
     "name": "stdout",
     "output_type": "stream",
     "text": [
      "The autoreload extension is already loaded. To reload it, use:\n",
      "  %reload_ext autoreload\n",
      "Directory 'downloads' created successfully.\n"
     ]
    },
    {
     "name": "stderr",
     "output_type": "stream",
     "text": [
      "C:\\Users\\psadmin\\AppData\\Local\\Temp\\2\\ipykernel_1280\\1488194717.py:20: DeprecationWarning: executable_path has been deprecated, please pass in a Service object\n",
      "  driver = webdriver.Chrome(ChromeDriverManager().install(), options = chrome_options)\n"
     ]
    }
   ],
   "source": [
    "%load_ext autoreload\n",
    "%autoreload 2\n",
    "\n",
    "from modules.login import *\n",
    "from config import username, password\n",
    "import shutil\n",
    "import sys\n",
    "\n",
    "logging.basicConfig(filename='NWEA_Map.log', level=logging.INFO,\n",
    "                   format='%(asctime)s - %(message)s', datefmt='%d-%b-%y %H:%M:%S',force=True)\n",
    "logging.info('\\n\\n-------------NWEA_Map new instance log')\n",
    "\n",
    "shutil.rmtree(os.getcwd() + '\\\\downloads')\n",
    "create_directory('downloads')\n",
    "\n",
    "chrome_options = webdriver.ChromeOptions()\n",
    "prefs = {'download.default_directory' : os.getcwd() + '\\\\downloads',\n",
    "         'profile.default_content_setting_values.automatic_downloads': 1,\n",
    "         'profile.content_settings.exceptions.automatic_downloads.*.setting': 1}\n",
    "chrome_options.add_experimental_option('prefs', prefs)\n",
    "driver = webdriver.Chrome(ChromeDriverManager().install(), options = chrome_options)\n",
    "\n",
    "logIn(username, password, driver)\n",
    "get_to_data_export(driver)\n",
    "unzip_files_in_same_dir()\n",
    "\n",
    "\n",
    "try:\n",
    "    driver.quit()\n",
    "    logging.info('Browser closed.')\n",
    "except Exception as e:\n",
    "    logging.error(f'Error closing browser: {e}')\n",
    "\n",
    "# Confirm script exit\n",
    "logging.info('Script exiting.')\n",
    "sys.exit(0)"
   ]
  }
 ],
 "metadata": {
  "kernelspec": {
   "display_name": "base",
   "language": "python",
   "name": "python3"
  },
  "language_info": {
   "codemirror_mode": {
    "name": "ipython",
    "version": 3
   },
   "file_extension": ".py",
   "mimetype": "text/x-python",
   "name": "python",
   "nbconvert_exporter": "python",
   "pygments_lexer": "ipython3",
   "version": "3.8.2"
  }
 },
 "nbformat": 4,
 "nbformat_minor": 2
}
