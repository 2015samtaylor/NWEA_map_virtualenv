{
 "cells": [
  {
   "cell_type": "code",
   "execution_count": null,
   "metadata": {},
   "outputs": [],
   "source": [
    "https://sso.mapnwea.org/auth/login"
   ]
  },
  {
   "cell_type": "markdown",
   "metadata": {},
   "source": [
    "<input id=\"username\" class=\"form-control ng-pristine ng-valid ng-empty ng-touched\" type=\"text\" name=\"userName\" autofocus=\"\" ng-model=\"userNameProvided\" placeholder=\"Username\" autocomplete=\"off\" autocorrect=\"off\" autocapitalize=\"off\" spellcheck=\"false\">"
   ]
  },
  {
   "cell_type": "code",
   "execution_count": 1,
   "metadata": {},
   "outputs": [
    {
     "name": "stdout",
     "output_type": "stream",
     "text": [
      "Directory 'downloads' already exists.\n"
     ]
    },
    {
     "name": "stderr",
     "output_type": "stream",
     "text": [
      "C:\\Users\\SAMUEL~1.TAY\\AppData\\Local\\Temp/ipykernel_18512/3460045607.py:17: DeprecationWarning: executable_path has been deprecated, please pass in a Service object\n",
      "  driver = webdriver.Chrome(ChromeDriverManager().install(), options = chrome_options)\n"
     ]
    }
   ],
   "source": [
    "%load_ext autoreload\n",
    "%autoreload 2\n",
    "\n",
    "from modules.login import *\n",
    "from config import username, password\n",
    "\n",
    "logging.basicConfig(filename='NWEA_Map.log', level=logging.INFO,\n",
    "                   format='%(asctime)s - %(message)s', datefmt='%d-%b-%y %H:%M:%S',force=True)\n",
    "logging.info('\\n\\n-------------NWEA_Map new instance log')\n",
    "\n",
    "create_directory('downloads')\n",
    "chrome_options = webdriver.ChromeOptions()\n",
    "prefs = {'download.default_directory' : os.getcwd() + '\\\\downloads',\n",
    "         'profile.default_content_setting_values.automatic_downloads': 1,\n",
    "         'profile.content_settings.exceptions.automatic_downloads.*.setting': 1}\n",
    "chrome_options.add_experimental_option('prefs', prefs)\n",
    "driver = webdriver.Chrome(ChromeDriverManager().install(), options = chrome_options)\n",
    "\n",
    "logIn(username, password, driver)\n",
    "get_to_data_export(driver)\n",
    "\n",
    "#Log out \n",
    "#See if the call straight to the URL makes sense for longevity\n",
    "#Create bitbucket dir\n",
    "\n",
    "#Change to csvs on the file"
   ]
  },
  {
   "cell_type": "code",
   "execution_count": 5,
   "metadata": {},
   "outputs": [
    {
     "name": "stdout",
     "output_type": "stream",
     "text": [
      "The autoreload extension is already loaded. To reload it, use:\n",
      "  %reload_ext autoreload\n",
      "No .xlsx file found in the zip archive.\n"
     ]
    }
   ],
   "source": [
    "#Test the unzips\n",
    "\n",
    "%load_ext autoreload\n",
    "%autoreload 2\n",
    "from modules.login import *\n",
    "\n",
    "# unzip_files_in_same_dir()\n",
    "\n",
    "# def unzip_files_in_same_dir():\n",
    "\n",
    "# Get the directory path\n",
    "files_dir_files = os.getcwd() + '\\\\downloads'\n",
    "\n",
    "# List all files in the directory\n",
    "files_list = os.listdir(files_dir_files)\n",
    "\n",
    "# Filter out only files ending with .zip\n",
    "file_zips = [file for file in files_list if file.endswith('.zip')]\n",
    "unzip_xlsx_file(file_zips, files_dir_files)\n",
    "\n",
    "    #pass in a list of file_zips to be iterated. \n",
    "    #Create a param fo elpac_or_sbac for logging purposes\n",
    "\n",
    "    # try:\n",
    "    #     unzip_xlsx_file(file_zips)\n",
    "    #     logging.info(f'Unzipped all files into the {files_dir_files}')\n",
    "    #     print('Success')\n",
    "    # except Exception as e:\n",
    "    #     logging.info(f'Unable to unzip file due to error - {e}')\n",
    "    #     print('False')\n"
   ]
  }
 ],
 "metadata": {
  "kernelspec": {
   "display_name": "base",
   "language": "python",
   "name": "python3"
  },
  "language_info": {
   "codemirror_mode": {
    "name": "ipython",
    "version": 3
   },
   "file_extension": ".py",
   "mimetype": "text/x-python",
   "name": "python",
   "nbconvert_exporter": "python",
   "pygments_lexer": "ipython3",
   "version": "3.9.7"
  }
 },
 "nbformat": 4,
 "nbformat_minor": 2
}
