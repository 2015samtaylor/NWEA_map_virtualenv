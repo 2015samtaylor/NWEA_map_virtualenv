{
 "cells": [
  {
   "cell_type": "code",
   "execution_count": null,
   "metadata": {},
   "outputs": [],
   "source": [
    "%load_ext autoreload\n",
    "%autoreload 2\n",
    "\n",
    "\n",
    "from modules.login import *\n",
    "from modules.logging_metadata import *\n",
    "from config import username, password\n",
    "import shutil\n",
    "import pandas as pd\n",
    "\n",
    "logger = JobLogger('NWEA_Map', 'python')\n",
    "logging.basicConfig(filename='NWEA_Map.log', level=logging.INFO,\n",
    "                   format='%(asctime)s - %(message)s', datefmt='%d-%b-%y %H:%M:%S',force=True)\n",
    "logging.info('\\n\\n-------------NWEA_Map new instance log')\n",
    "\n",
    "try:\n",
    "    shutil.rmtree(os.getcwd() + '\\\\downloads')\n",
    "    logging.info('Removing downloads folder')\n",
    "except FileNotFoundError:\n",
    "    logging.info('Unable to remove downloads folder, it does not exist')\n",
    "\n",
    "create_directory('downloads')\n",
    "\n",
    "chrome_options = webdriver.ChromeOptions()\n",
    "prefs = {'download.default_directory' : os.getcwd() + '\\\\downloads',\n",
    "         'profile.default_content_setting_values.automatic_downloads': 1,\n",
    "         'profile.content_settings.exceptions.automatic_downloads.*.setting': 1}\n",
    "chrome_options.add_experimental_option('prefs', prefs)\n",
    "service = Service(ChromeDriverManager().install())\n",
    "driver = webdriver.Chrome(service=service, options = chrome_options)\n",
    "\n",
    "\n",
    "def main():\n",
    "    try:\n",
    "        logIn(username, password, driver)\n",
    "        get_to_data_export(driver)\n",
    "        unzip_files_in_same_dir()\n",
    "\n",
    "        try:\n",
    "            driver.quit()\n",
    "            logging.info('Browser closed.')\n",
    "        except Exception as e:\n",
    "            logging.error(f'Error closing browser: {e}')\n",
    "\n",
    "        # Confirm script exit\n",
    "        logging.info('Script exiting.')\n",
    "\n",
    "        logger.log_job('Success')\n",
    "        logger.send_frame_to_SQL()\n",
    "    except:\n",
    "        logging.info('Process failed')\n",
    "        logger.log_job('Failure')\n",
    "        logger.send_frame_to_SQL()\n",
    "main()"
   ]
  }
 ],
 "metadata": {
  "kernelspec": {
   "display_name": "base",
   "language": "python",
   "name": "python3"
  },
  "language_info": {
   "codemirror_mode": {
    "name": "ipython",
    "version": 3
   },
   "file_extension": ".py",
   "mimetype": "text/x-python",
   "name": "python",
   "nbconvert_exporter": "python",
   "pygments_lexer": "ipython3",
   "version": "3.9.7"
  }
 },
 "nbformat": 4,
 "nbformat_minor": 2
}
